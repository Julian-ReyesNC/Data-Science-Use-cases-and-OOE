{
 "cells": [
  {
   "cell_type": "markdown",
   "metadata": {},
   "source": [
    "Here is a simple way I can clean up your data with a little python:"
   ]
  },
  {
   "cell_type": "code",
   "execution_count": 5,
   "metadata": {
    "id": "c1mBzDAOeFaY"
   },
   "outputs": [
    {
     "name": "stdout",
     "output_type": "stream",
     "text": [
      "Here is the data before the cleaning:\n"
     ]
    },
    {
     "data": {
      "text/html": [
       "<div>\n",
       "<style scoped>\n",
       "    .dataframe tbody tr th:only-of-type {\n",
       "        vertical-align: middle;\n",
       "    }\n",
       "\n",
       "    .dataframe tbody tr th {\n",
       "        vertical-align: top;\n",
       "    }\n",
       "\n",
       "    .dataframe thead th {\n",
       "        text-align: right;\n",
       "    }\n",
       "</style>\n",
       "<table border=\"1\" class=\"dataframe\">\n",
       "  <thead>\n",
       "    <tr style=\"text-align: right;\">\n",
       "      <th></th>\n",
       "      <th>Name</th>\n",
       "      <th>Email</th>\n",
       "      <th>PhoneNumber</th>\n",
       "      <th>Classification</th>\n",
       "    </tr>\n",
       "  </thead>\n",
       "  <tbody>\n",
       "    <tr>\n",
       "      <th>0</th>\n",
       "      <td>Peter Camarena</td>\n",
       "      <td>camareP@ @losrios.    edu</td>\n",
       "      <td>91-----6916   -  9161</td>\n",
       "      <td>Pro  fessor</td>\n",
       "    </tr>\n",
       "    <tr>\n",
       "      <th>1</th>\n",
       "      <td>JohnnySmith</td>\n",
       "      <td>johnny    smith@losrios    .edu</td>\n",
       "      <td>916-456-          7879</td>\n",
       "      <td>Stu   dent</td>\n",
       "    </tr>\n",
       "    <tr>\n",
       "      <th>2</th>\n",
       "      <td>EllenJones</td>\n",
       "      <td>ellenjones      @losrios.edu</td>\n",
       "      <td>9163216547</td>\n",
       "      <td>Stud    ent</td>\n",
       "    </tr>\n",
       "    <tr>\n",
       "      <th>3</th>\n",
       "      <td>RachaelYoung</td>\n",
       "      <td>rachaelyoung@@@losrios.edu</td>\n",
       "      <td>(916)1472583</td>\n",
       "      <td>Student</td>\n",
       "    </tr>\n",
       "    <tr>\n",
       "      <th>4</th>\n",
       "      <td>BonnieLanger</td>\n",
       "      <td>bonnielanger@losrios      .edu</td>\n",
       "      <td>(916) 963-8527</td>\n",
       "      <td>St     udent</td>\n",
       "    </tr>\n",
       "    <tr>\n",
       "      <th>5</th>\n",
       "      <td>CharlesChen</td>\n",
       "      <td>charleschen       @losrios.edu</td>\n",
       "      <td>:916:987:6541</td>\n",
       "      <td>Studen     t</td>\n",
       "    </tr>\n",
       "  </tbody>\n",
       "</table>\n",
       "</div>"
      ],
      "text/plain": [
       "             Name                                 Email  \\\n",
       "0  Peter Camarena             camareP@ @losrios.    edu   \n",
       "1     JohnnySmith       johnny    smith@losrios    .edu   \n",
       "2      EllenJones          ellenjones      @losrios.edu   \n",
       "3    RachaelYoung            rachaelyoung@@@losrios.edu   \n",
       "4    BonnieLanger        bonnielanger@losrios      .edu   \n",
       "5     CharlesChen        charleschen       @losrios.edu   \n",
       "\n",
       "                                  PhoneNumber Classification  \n",
       "0                       91-----6916   -  9161    Pro  fessor  \n",
       "1                      916-456-          7879     Stu   dent  \n",
       "2                                  9163216547    Stud    ent  \n",
       "3                                (916)1472583        Student  \n",
       "4                              (916) 963-8527   St     udent  \n",
       "5                           :916:987:6541       Studen     t  "
      ]
     },
     "metadata": {},
     "output_type": "display_data"
    },
    {
     "name": "stdout",
     "output_type": "stream",
     "text": [
      "Here is the data after the cleaning:\n"
     ]
    },
    {
     "data": {
      "text/html": [
       "<div>\n",
       "<style scoped>\n",
       "    .dataframe tbody tr th:only-of-type {\n",
       "        vertical-align: middle;\n",
       "    }\n",
       "\n",
       "    .dataframe tbody tr th {\n",
       "        vertical-align: top;\n",
       "    }\n",
       "\n",
       "    .dataframe thead th {\n",
       "        text-align: right;\n",
       "    }\n",
       "</style>\n",
       "<table border=\"1\" class=\"dataframe\">\n",
       "  <thead>\n",
       "    <tr style=\"text-align: right;\">\n",
       "      <th></th>\n",
       "      <th>Name</th>\n",
       "      <th>Email</th>\n",
       "      <th>PhoneNumber</th>\n",
       "      <th>Classification</th>\n",
       "    </tr>\n",
       "  </thead>\n",
       "  <tbody>\n",
       "    <tr>\n",
       "      <th>0</th>\n",
       "      <td>PeterCamarena</td>\n",
       "      <td>camareP@losrios.edu</td>\n",
       "      <td>9169169161</td>\n",
       "      <td>Professor</td>\n",
       "    </tr>\n",
       "    <tr>\n",
       "      <th>1</th>\n",
       "      <td>JohnnySmith</td>\n",
       "      <td>johnnysmith@losrios.edu</td>\n",
       "      <td>9164567879</td>\n",
       "      <td>Student</td>\n",
       "    </tr>\n",
       "    <tr>\n",
       "      <th>2</th>\n",
       "      <td>EllenJones</td>\n",
       "      <td>ellenjones@losrios.edu</td>\n",
       "      <td>9163216547</td>\n",
       "      <td>Student</td>\n",
       "    </tr>\n",
       "    <tr>\n",
       "      <th>3</th>\n",
       "      <td>RachaelYoung</td>\n",
       "      <td>rachaelyoung@losrios.edu</td>\n",
       "      <td>9161472583</td>\n",
       "      <td>Student</td>\n",
       "    </tr>\n",
       "    <tr>\n",
       "      <th>4</th>\n",
       "      <td>BonnieLanger</td>\n",
       "      <td>bonnielanger@losrios.edu</td>\n",
       "      <td>9169638527</td>\n",
       "      <td>Student</td>\n",
       "    </tr>\n",
       "    <tr>\n",
       "      <th>5</th>\n",
       "      <td>CharlesChen</td>\n",
       "      <td>charleschen@losrios.edu</td>\n",
       "      <td>9169876541</td>\n",
       "      <td>Student</td>\n",
       "    </tr>\n",
       "  </tbody>\n",
       "</table>\n",
       "</div>"
      ],
      "text/plain": [
       "            Name                     Email PhoneNumber Classification\n",
       "0  PeterCamarena       camareP@losrios.edu  9169169161      Professor\n",
       "1    JohnnySmith   johnnysmith@losrios.edu  9164567879        Student\n",
       "2     EllenJones    ellenjones@losrios.edu  9163216547        Student\n",
       "3   RachaelYoung  rachaelyoung@losrios.edu  9161472583        Student\n",
       "4   BonnieLanger  bonnielanger@losrios.edu  9169638527        Student\n",
       "5    CharlesChen   charleschen@losrios.edu  9169876541        Student"
      ]
     },
     "metadata": {},
     "output_type": "display_data"
    }
   ],
   "source": [
    "import pandas as pd\n",
    "survey= pd.read_csv(\"CustomerData4-11-24.csv\")\n",
    "print(\"Here is the data before the cleaning:\")\n",
    "display(survey)\n",
    "survey['Email']=survey['Email'].astype(str).str.replace(\" \",\"\")\n",
    "\n",
    "\n",
    "\n",
    "\n",
    "survey['Email'] = survey['Email'].apply(lambda x: x[:x.rfind('@')] + x[x.rfind('@'):].replace('@', '', x.count('@')-1))\n",
    "\n",
    "survey['Email'] = survey['Email'].apply(lambda x: x[:x.rfind('@')] + x[x.rfind('@'):].replace('@', '', x.count('@')-1))\n",
    "\n",
    "survey['PhoneNumber'] = survey['PhoneNumber'].str.replace('-', '')\n",
    "survey['PhoneNumber'] = survey['PhoneNumber'].str.replace(' ', '')\n",
    "survey['PhoneNumber'] = survey['PhoneNumber'].str.replace(':', '')\n",
    "survey['PhoneNumber'] = survey['PhoneNumber'].str.replace('(', '')\n",
    "survey['PhoneNumber'] = survey['PhoneNumber'].str.replace(')', '')\n",
    "\n",
    "survey['Classification'] = survey['Classification'].str.replace(' ', '')\n",
    "\n",
    "survey['Email'] = survey['Email'].astype(str).str.replace(\":\", \"\")\n",
    "\n",
    "survey['Email'] = survey['Email'].astype(str).str.replace(\"-\", \"\")\n",
    "\n",
    "survey['Name'] = survey['Name'].str.replace(' ', '')\n",
    "\n",
    "#so that the output looks like the output given to you in the Lab assignment.\n",
    "print(\"Here is the data after the cleaning:\")\n",
    "display(survey)\n"
   ]
  },
  {
   "cell_type": "markdown",
   "metadata": {
    "id": "oM-QExdpe04W"
   },
   "source": [
    "This can be ran daily to ensure that the data stays clean allowing the team to have information they can trust. This code completely automates a task that you may find yourself or one of your emplytaking time out of your day to complete each day"
   ]
  },
  {
   "cell_type": "code",
   "execution_count": null,
   "metadata": {},
   "outputs": [],
   "source": []
  }
 ],
 "metadata": {
  "colab": {
   "provenance": []
  },
  "kernelspec": {
   "display_name": "Python 3 (ipykernel)",
   "language": "python",
   "name": "python3"
  },
  "language_info": {
   "codemirror_mode": {
    "name": "ipython",
    "version": 3
   },
   "file_extension": ".py",
   "mimetype": "text/x-python",
   "name": "python",
   "nbconvert_exporter": "python",
   "pygments_lexer": "ipython3",
   "version": "3.11.0"
  }
 },
 "nbformat": 4,
 "nbformat_minor": 4
}
