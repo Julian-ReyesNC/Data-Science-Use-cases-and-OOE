{
 "cells": [
  {
   "cell_type": "markdown",
   "metadata": {
    "id": "MUTHFroJexo4"
   },
   "source": [
    "**Mid Term CISP 357\n",
    "AirPlane Safety**"
   ]
  },
  {
   "cell_type": "code",
   "execution_count": null,
   "metadata": {
    "id": "jD4HPhP-expH"
   },
   "outputs": [],
   "source": [
    "\n"
   ]
  },
  {
   "cell_type": "markdown",
   "metadata": {
    "id": "xFUpcgudexpN"
   },
   "source": [
    "This project confirms the LA Times news report that a certain airplane model is the most unsafe\n",
    "To do this we access the two data files that are used by the LA Times news paper\n",
    "These statistics originate from NTSB (National Traffic Safety Board)\n",
    "The first file \"ntsb-accidents.csv\" contains columns like the makes, model, state, year and date of the accident and the number of fatalities\n",
    "We will use this file and another file called \"survey.csv\" that contains the make and model as well as the hours flown.\n",
    "We will then merge these two files and draw our conclusions.\n",
    "Some of the code has been written for you. You need to fill in code by following the instructions in the comments\n",
    "Do not overthink any of the instruction. You have all the material in your lessons!\n",
    "Where code is given to you - you will see a comment called #GIVEN"
   ]
  },
  {
   "cell_type": "code",
   "execution_count": 25,
   "metadata": {
    "id": "ATES426GexpQ"
   },
   "outputs": [
    {
     "name": "stdout",
     "output_type": "stream",
     "text": [
      "          event_id   ntsb_make ntsb_model ntsb_number  year  \\\n",
      "0   20061222X01838        BELL        407  NYC07FA048  2006   \n",
      "1   20060817X01187    ROBINSON   R22 BETA  LAX06LA257  2006   \n",
      "2   20060111X00044    ROBINSON        R44  MIA06FA039  2006   \n",
      "3   20060419X00461    ROBINSON     R44 II  DFW06FA102  2006   \n",
      "4   20060208X00181    ROBINSON        R44  SEA06LA052  2006   \n",
      "5   20060228X00255    ROBINSON        R22  ANC06FA020  2006   \n",
      "6   20060824X01237  EUROCOPTER  AS-350-B3  SEA06GA158  2006   \n",
      "7   20060916X01352      HUGHES       369D  LAX06LA288  2006   \n",
      "8   20061122X01705      HUGHES       369E  SEA07LA021  2006   \n",
      "9   20060306X00268   SCHWEIZER     269C-1  LAX06LA123  2006   \n",
      "10  20060607X00691  EUROCOPTER   EC-135P1  NYC06MA131  2006   \n",
      "\n",
      "                 date            city state country  total_fatalities  \\\n",
      "0   12/14/06 00:00:00        DAGSBORO    DE     USA                 2   \n",
      "1   08/10/06 00:00:00          TUCSON    AZ     USA                 1   \n",
      "2   01/01/06 00:00:00     GRAND RIDGE    FL     USA                 3   \n",
      "3   04/13/06 00:00:00  FREDERICKSBURG    TX     USA                 2   \n",
      "4   02/06/06 00:00:00          HELENA    MT     USA                 1   \n",
      "5   02/22/06 00:00:00      SCOTTSDALE    AZ     USA                 2   \n",
      "6   08/13/06 00:00:00     YELLOW PINE    ID     USA                 4   \n",
      "7   09/06/06 00:00:00           SOMIS    CA     USA                 2   \n",
      "8   11/21/06 00:00:00          JENSEN    UT     USA                 1   \n",
      "9   02/25/06 00:00:00        VALENCIA    CA     USA                 1   \n",
      "10  05/30/06 00:00:00      WASHINGTON    DC     USA                 1   \n",
      "\n",
      "   latimes_make latimes_model latimes_make_and_model  \n",
      "0          BELL           407               BELL 407  \n",
      "1      ROBINSON           R22           ROBINSON R22  \n",
      "2      ROBINSON           R44           ROBINSON R44  \n",
      "3      ROBINSON           R44           ROBINSON R44  \n",
      "4      ROBINSON           R44           ROBINSON R44  \n",
      "5      ROBINSON           R22           ROBINSON R22  \n",
      "6        AIRBUS           350             AIRBUS 350  \n",
      "7        HUGHES           369             HUGHES 369  \n",
      "8        HUGHES           369             HUGHES 369  \n",
      "9     SCHWEIZER           269          SCHWEIZER 269  \n",
      "10       AIRBUS           135             AIRBUS 135  \n"
     ]
    }
   ],
   "source": [
    "import pandas as pd # Cell 1 - import pandas as pd\n",
    "accident_list = pd.read_csv(\"ntsb-accidents.csv\") # GIVEN read the the csv file into a dataframe called accident_list\n",
    "print(accident_list.head(11)) #use the head function to print the first 10 lines of this file\n",
    "\n",
    "\n"
   ]
  },
  {
   "cell_type": "code",
   "execution_count": 11,
   "metadata": {
    "id": "tt9nBEd6expS",
    "outputId": "d18e4440-b4ca-4f28-bfb6-ed67ac25e4f1"
   },
   "outputs": [
    {
     "name": "stdout",
     "output_type": "stream",
     "text": [
      "<bound method DataFrame.info of            event_id                       ntsb_make ntsb_model ntsb_number  \\\n",
      "0    20061222X01838                            BELL        407  NYC07FA048   \n",
      "1    20060817X01187                        ROBINSON   R22 BETA  LAX06LA257   \n",
      "2    20060111X00044                        ROBINSON        R44  MIA06FA039   \n",
      "3    20060419X00461                        ROBINSON     R44 II  DFW06FA102   \n",
      "4    20060208X00181                        ROBINSON        R44  SEA06LA052   \n",
      "..              ...                             ...        ...         ...   \n",
      "158  20160711X32921  BELL HELICOPTER TEXTRON CANADA        407  ERA16FA248   \n",
      "159  20160804X45514                       SCHWEIZER     269C 1  CEN16FA304   \n",
      "160  20160404X74644                            BELL        206  ERA16FA144   \n",
      "161  20160507X31120                          AIRBUS      AS350  ANC16FA023   \n",
      "162  20160612X85856     ROBINSON HELICOPTER COMPANY     R44 II  CEN16FA215   \n",
      "\n",
      "     year               date            city state country  total_fatalities  \\\n",
      "0    2006  12/14/06 00:00:00        DAGSBORO    DE     USA                 2   \n",
      "1    2006  08/10/06 00:00:00          TUCSON    AZ     USA                 1   \n",
      "2    2006  01/01/06 00:00:00     GRAND RIDGE    FL     USA                 3   \n",
      "3    2006  04/13/06 00:00:00  FREDERICKSBURG    TX     USA                 2   \n",
      "4    2006  02/06/06 00:00:00          HELENA    MT     USA                 1   \n",
      "..    ...                ...             ...   ...     ...               ...   \n",
      "158  2016  07/11/16 00:00:00         HICKORY    KY     USA                 1   \n",
      "159  2016  08/03/16 00:00:00      JEANERETTE    LA     USA                 1   \n",
      "160  2016  04/04/16 00:00:00    PIGEON FORGE    TN     USA                 5   \n",
      "161  2016  05/06/16 00:00:00         SKAGWAY    AK     USA                 1   \n",
      "162  2016  06/12/16 00:00:00       JONESBORO    AR     USA                 1   \n",
      "\n",
      "    latimes_make latimes_model latimes_make_and_model  \n",
      "0           BELL           407               BELL 407  \n",
      "1       ROBINSON           R22           ROBINSON R22  \n",
      "2       ROBINSON           R44           ROBINSON R44  \n",
      "3       ROBINSON           R44           ROBINSON R44  \n",
      "4       ROBINSON           R44           ROBINSON R44  \n",
      "..           ...           ...                    ...  \n",
      "158         BELL           407               BELL 407  \n",
      "159    SCHWEIZER           269          SCHWEIZER 269  \n",
      "160         BELL           206               BELL 206  \n",
      "161       AIRBUS           350             AIRBUS 350  \n",
      "162     ROBINSON           R44           ROBINSON R44  \n",
      "\n",
      "[163 rows x 13 columns]>\n",
      "total number of data points = 163\n"
     ]
    }
   ],
   "source": [
    "print(accident_list.info) #Cell -2 use the info function to get information about the data frame columns\n",
    "print(f\"Total number of data points = {len(accident_list)}\")#use the len function to get information about the total number of datapoints (rows)\n",
    "#you should see something like this"
   ]
  },
  {
   "cell_type": "code",
   "execution_count": 26,
   "metadata": {
    "id": "fdVoVlB_expV",
    "outputId": "e69d70fd-d8a7-4e72-802f-00d3cc73f009"
   },
   "outputs": [
    {
     "name": "stdout",
     "output_type": "stream",
     "text": [
      "latimes_make_and_model\n",
      "ROBINSON R44             38\n",
      "BELL 206                 30\n",
      "AIRBUS 350               29\n",
      "ROBINSON R22             20\n",
      "BELL 407                 13\n",
      "HUGHES 369               13\n",
      "MCDONNELL DOUGLAS 369     6\n",
      "SCHWEIZER 269             5\n",
      "AIRBUS 135                4\n",
      "SIKORSKY 76               2\n",
      "AGUSTA 109                2\n",
      "AIRBUS 130                1\n",
      "Name: count, dtype: int64\n"
     ]
    }
   ],
   "source": [
    "make_model_counts = accident_list[\"latimes_make_and_model\"].value_counts()\n",
    "print(make_model_counts)\n",
    "#Cell - 3 use the value_counts function to determine the number of entries for each type of make_model in the 'latimes_make_and-model' column\n",
    "#e.g accident_list[\"column_name\"].value_counts() #GIVEN\n",
    "#here is what you will see"
   ]
  },
  {
   "cell_type": "code",
   "execution_count": null,
   "metadata": {
    "id": "TYV3L0PmexpX",
    "outputId": "35dc1054-d78e-4615-c38b-655d44bb7017"
   },
   "outputs": [
    {
     "data": {
      "text/html": [
       "<div>\n",
       "<style scoped>\n",
       "    .dataframe tbody tr th:only-of-type {\n",
       "        vertical-align: middle;\n",
       "    }\n",
       "\n",
       "    .dataframe tbody tr th {\n",
       "        vertical-align: top;\n",
       "    }\n",
       "\n",
       "    .dataframe thead th {\n",
       "        text-align: right;\n",
       "    }\n",
       "</style>\n",
       "<table border=\"1\" class=\"dataframe\">\n",
       "  <thead>\n",
       "    <tr style=\"text-align: right;\">\n",
       "      <th></th>\n",
       "      <th>event_id</th>\n",
       "      <th>ntsb_make</th>\n",
       "      <th>ntsb_model</th>\n",
       "      <th>ntsb_number</th>\n",
       "      <th>year</th>\n",
       "      <th>date</th>\n",
       "      <th>city</th>\n",
       "      <th>state</th>\n",
       "      <th>country</th>\n",
       "      <th>total_fatalities</th>\n",
       "      <th>latimes_make</th>\n",
       "      <th>latimes_model</th>\n",
       "      <th>latimes_make_and_model</th>\n",
       "    </tr>\n",
       "  </thead>\n",
       "  <tbody>\n",
       "    <tr>\n",
       "      <th>0</th>\n",
       "      <td>20061222X01838</td>\n",
       "      <td>BELL</td>\n",
       "      <td>407</td>\n",
       "      <td>NYC07FA048</td>\n",
       "      <td>2006</td>\n",
       "      <td>12/14/06 00:00:00</td>\n",
       "      <td>DAGSBORO</td>\n",
       "      <td>DE</td>\n",
       "      <td>USA</td>\n",
       "      <td>2</td>\n",
       "      <td>BELL</td>\n",
       "      <td>407</td>\n",
       "      <td>BELL 407</td>\n",
       "    </tr>\n",
       "    <tr>\n",
       "      <th>1</th>\n",
       "      <td>20060817X01187</td>\n",
       "      <td>ROBINSON</td>\n",
       "      <td>R22 BETA</td>\n",
       "      <td>LAX06LA257</td>\n",
       "      <td>2006</td>\n",
       "      <td>08/10/06 00:00:00</td>\n",
       "      <td>TUCSON</td>\n",
       "      <td>AZ</td>\n",
       "      <td>USA</td>\n",
       "      <td>1</td>\n",
       "      <td>ROBINSON</td>\n",
       "      <td>R22</td>\n",
       "      <td>ROBINSON R22</td>\n",
       "    </tr>\n",
       "    <tr>\n",
       "      <th>2</th>\n",
       "      <td>20060111X00044</td>\n",
       "      <td>ROBINSON</td>\n",
       "      <td>R44</td>\n",
       "      <td>MIA06FA039</td>\n",
       "      <td>2006</td>\n",
       "      <td>01/01/06 00:00:00</td>\n",
       "      <td>GRAND RIDGE</td>\n",
       "      <td>FL</td>\n",
       "      <td>USA</td>\n",
       "      <td>3</td>\n",
       "      <td>ROBINSON</td>\n",
       "      <td>R44</td>\n",
       "      <td>ROBINSON R44</td>\n",
       "    </tr>\n",
       "    <tr>\n",
       "      <th>3</th>\n",
       "      <td>20060419X00461</td>\n",
       "      <td>ROBINSON</td>\n",
       "      <td>R44 II</td>\n",
       "      <td>DFW06FA102</td>\n",
       "      <td>2006</td>\n",
       "      <td>04/13/06 00:00:00</td>\n",
       "      <td>FREDERICKSBURG</td>\n",
       "      <td>TX</td>\n",
       "      <td>USA</td>\n",
       "      <td>2</td>\n",
       "      <td>ROBINSON</td>\n",
       "      <td>R44</td>\n",
       "      <td>ROBINSON R44</td>\n",
       "    </tr>\n",
       "    <tr>\n",
       "      <th>4</th>\n",
       "      <td>20060208X00181</td>\n",
       "      <td>ROBINSON</td>\n",
       "      <td>R44</td>\n",
       "      <td>SEA06LA052</td>\n",
       "      <td>2006</td>\n",
       "      <td>02/06/06 00:00:00</td>\n",
       "      <td>HELENA</td>\n",
       "      <td>MT</td>\n",
       "      <td>USA</td>\n",
       "      <td>1</td>\n",
       "      <td>ROBINSON</td>\n",
       "      <td>R44</td>\n",
       "      <td>ROBINSON R44</td>\n",
       "    </tr>\n",
       "  </tbody>\n",
       "</table>\n",
       "</div>"
      ],
      "text/plain": [
       "         event_id ntsb_make ntsb_model ntsb_number  year               date  \\\n",
       "0  20061222X01838      BELL        407  NYC07FA048  2006  12/14/06 00:00:00   \n",
       "1  20060817X01187  ROBINSON   R22 BETA  LAX06LA257  2006  08/10/06 00:00:00   \n",
       "2  20060111X00044  ROBINSON        R44  MIA06FA039  2006  01/01/06 00:00:00   \n",
       "3  20060419X00461  ROBINSON     R44 II  DFW06FA102  2006  04/13/06 00:00:00   \n",
       "4  20060208X00181  ROBINSON        R44  SEA06LA052  2006  02/06/06 00:00:00   \n",
       "\n",
       "             city state country  total_fatalities latimes_make latimes_model  \\\n",
       "0        DAGSBORO    DE     USA                 2         BELL           407   \n",
       "1          TUCSON    AZ     USA                 1     ROBINSON           R22   \n",
       "2     GRAND RIDGE    FL     USA                 3     ROBINSON           R44   \n",
       "3  FREDERICKSBURG    TX     USA                 2     ROBINSON           R44   \n",
       "4          HELENA    MT     USA                 1     ROBINSON           R44   \n",
       "\n",
       "  latimes_make_and_model  \n",
       "0               BELL 407  \n",
       "1           ROBINSON R22  \n",
       "2           ROBINSON R44  \n",
       "3           ROBINSON R44  \n",
       "4           ROBINSON R44  "
      ]
     },
     "execution_count": 11,
     "metadata": {},
     "output_type": "execute_result"
    }
   ],
   "source": [
    "#the head function of Cell 1 will display something like this."
   ]
  },
  {
   "cell_type": "code",
   "execution_count": 27,
   "metadata": {
    "id": "fSONihdeexpY",
    "outputId": "d88a54f9-1a78-4de4-ecad-dd2112d49bb4"
   },
   "outputs": [
    {
     "data": {
      "text/plain": [
       "336"
      ]
     },
     "execution_count": 27,
     "metadata": {},
     "output_type": "execute_result"
    }
   ],
   "source": [
    "accident_list[\"total_fatalities\"].sum()#Cell 4 apply the sum function to the  'total_fatalities' column of the accident_list dataframe\n",
    "# this will add and display the total number of fatalities in the\n",
    "# 'total_fatalities' column of the accident_list dataframe. You should see the number 336\n"
   ]
  },
  {
   "cell_type": "code",
   "execution_count": 28,
   "metadata": {
    "id": "MFTh8C80expa",
    "outputId": "dd470465-3d67-4307-b0a5-b48661966e33"
   },
   "outputs": [
    {
     "data": {
      "text/html": [
       "<div>\n",
       "<style scoped>\n",
       "    .dataframe tbody tr th:only-of-type {\n",
       "        vertical-align: middle;\n",
       "    }\n",
       "\n",
       "    .dataframe tbody tr th {\n",
       "        vertical-align: top;\n",
       "    }\n",
       "\n",
       "    .dataframe thead th {\n",
       "        text-align: right;\n",
       "    }\n",
       "</style>\n",
       "<table border=\"1\" class=\"dataframe\">\n",
       "  <thead>\n",
       "    <tr style=\"text-align: right;\">\n",
       "      <th></th>\n",
       "      <th>state</th>\n",
       "      <th>count</th>\n",
       "    </tr>\n",
       "  </thead>\n",
       "  <tbody>\n",
       "    <tr>\n",
       "      <th>0</th>\n",
       "      <td>CA</td>\n",
       "      <td>16</td>\n",
       "    </tr>\n",
       "    <tr>\n",
       "      <th>1</th>\n",
       "      <td>TX</td>\n",
       "      <td>15</td>\n",
       "    </tr>\n",
       "    <tr>\n",
       "      <th>2</th>\n",
       "      <td>AZ</td>\n",
       "      <td>14</td>\n",
       "    </tr>\n",
       "    <tr>\n",
       "      <th>3</th>\n",
       "      <td>FL</td>\n",
       "      <td>9</td>\n",
       "    </tr>\n",
       "    <tr>\n",
       "      <th>4</th>\n",
       "      <td>WA</td>\n",
       "      <td>8</td>\n",
       "    </tr>\n",
       "    <tr>\n",
       "      <th>5</th>\n",
       "      <td>LA</td>\n",
       "      <td>8</td>\n",
       "    </tr>\n",
       "    <tr>\n",
       "      <th>6</th>\n",
       "      <td>TN</td>\n",
       "      <td>6</td>\n",
       "    </tr>\n",
       "    <tr>\n",
       "      <th>7</th>\n",
       "      <td>AK</td>\n",
       "      <td>6</td>\n",
       "    </tr>\n",
       "    <tr>\n",
       "      <th>8</th>\n",
       "      <td>AL</td>\n",
       "      <td>5</td>\n",
       "    </tr>\n",
       "    <tr>\n",
       "      <th>9</th>\n",
       "      <td>UT</td>\n",
       "      <td>5</td>\n",
       "    </tr>\n",
       "    <tr>\n",
       "      <th>10</th>\n",
       "      <td>OK</td>\n",
       "      <td>5</td>\n",
       "    </tr>\n",
       "    <tr>\n",
       "      <th>11</th>\n",
       "      <td>MT</td>\n",
       "      <td>4</td>\n",
       "    </tr>\n",
       "    <tr>\n",
       "      <th>12</th>\n",
       "      <td>HI</td>\n",
       "      <td>4</td>\n",
       "    </tr>\n",
       "    <tr>\n",
       "      <th>13</th>\n",
       "      <td>MO</td>\n",
       "      <td>4</td>\n",
       "    </tr>\n",
       "    <tr>\n",
       "      <th>14</th>\n",
       "      <td>OR</td>\n",
       "      <td>4</td>\n",
       "    </tr>\n",
       "    <tr>\n",
       "      <th>15</th>\n",
       "      <td>GM</td>\n",
       "      <td>3</td>\n",
       "    </tr>\n",
       "    <tr>\n",
       "      <th>16</th>\n",
       "      <td>WI</td>\n",
       "      <td>3</td>\n",
       "    </tr>\n",
       "    <tr>\n",
       "      <th>17</th>\n",
       "      <td>KY</td>\n",
       "      <td>3</td>\n",
       "    </tr>\n",
       "    <tr>\n",
       "      <th>18</th>\n",
       "      <td>PA</td>\n",
       "      <td>3</td>\n",
       "    </tr>\n",
       "    <tr>\n",
       "      <th>19</th>\n",
       "      <td>NM</td>\n",
       "      <td>3</td>\n",
       "    </tr>\n",
       "    <tr>\n",
       "      <th>20</th>\n",
       "      <td>CO</td>\n",
       "      <td>3</td>\n",
       "    </tr>\n",
       "    <tr>\n",
       "      <th>21</th>\n",
       "      <td>IA</td>\n",
       "      <td>3</td>\n",
       "    </tr>\n",
       "    <tr>\n",
       "      <th>22</th>\n",
       "      <td>IN</td>\n",
       "      <td>2</td>\n",
       "    </tr>\n",
       "    <tr>\n",
       "      <th>23</th>\n",
       "      <td>NV</td>\n",
       "      <td>2</td>\n",
       "    </tr>\n",
       "    <tr>\n",
       "      <th>24</th>\n",
       "      <td>NC</td>\n",
       "      <td>2</td>\n",
       "    </tr>\n",
       "    <tr>\n",
       "      <th>25</th>\n",
       "      <td>MD</td>\n",
       "      <td>2</td>\n",
       "    </tr>\n",
       "    <tr>\n",
       "      <th>26</th>\n",
       "      <td>AR</td>\n",
       "      <td>2</td>\n",
       "    </tr>\n",
       "    <tr>\n",
       "      <th>27</th>\n",
       "      <td>VA</td>\n",
       "      <td>2</td>\n",
       "    </tr>\n",
       "    <tr>\n",
       "      <th>28</th>\n",
       "      <td>MS</td>\n",
       "      <td>2</td>\n",
       "    </tr>\n",
       "    <tr>\n",
       "      <th>29</th>\n",
       "      <td>NY</td>\n",
       "      <td>2</td>\n",
       "    </tr>\n",
       "    <tr>\n",
       "      <th>30</th>\n",
       "      <td>MA</td>\n",
       "      <td>1</td>\n",
       "    </tr>\n",
       "    <tr>\n",
       "      <th>31</th>\n",
       "      <td>WV</td>\n",
       "      <td>1</td>\n",
       "    </tr>\n",
       "    <tr>\n",
       "      <th>32</th>\n",
       "      <td>WY</td>\n",
       "      <td>1</td>\n",
       "    </tr>\n",
       "    <tr>\n",
       "      <th>33</th>\n",
       "      <td>DE</td>\n",
       "      <td>1</td>\n",
       "    </tr>\n",
       "    <tr>\n",
       "      <th>34</th>\n",
       "      <td>GA</td>\n",
       "      <td>1</td>\n",
       "    </tr>\n",
       "    <tr>\n",
       "      <th>35</th>\n",
       "      <td>KS</td>\n",
       "      <td>1</td>\n",
       "    </tr>\n",
       "    <tr>\n",
       "      <th>36</th>\n",
       "      <td>NJ</td>\n",
       "      <td>1</td>\n",
       "    </tr>\n",
       "    <tr>\n",
       "      <th>37</th>\n",
       "      <td>SC</td>\n",
       "      <td>1</td>\n",
       "    </tr>\n",
       "    <tr>\n",
       "      <th>38</th>\n",
       "      <td>MI</td>\n",
       "      <td>1</td>\n",
       "    </tr>\n",
       "    <tr>\n",
       "      <th>39</th>\n",
       "      <td>DC</td>\n",
       "      <td>1</td>\n",
       "    </tr>\n",
       "    <tr>\n",
       "      <th>40</th>\n",
       "      <td>ID</td>\n",
       "      <td>1</td>\n",
       "    </tr>\n",
       "    <tr>\n",
       "      <th>41</th>\n",
       "      <td>PR</td>\n",
       "      <td>1</td>\n",
       "    </tr>\n",
       "  </tbody>\n",
       "</table>\n",
       "</div>"
      ],
      "text/plain": [
       "   state  count\n",
       "0     CA     16\n",
       "1     TX     15\n",
       "2     AZ     14\n",
       "3     FL      9\n",
       "4     WA      8\n",
       "5     LA      8\n",
       "6     TN      6\n",
       "7     AK      6\n",
       "8     AL      5\n",
       "9     UT      5\n",
       "10    OK      5\n",
       "11    MT      4\n",
       "12    HI      4\n",
       "13    MO      4\n",
       "14    OR      4\n",
       "15    GM      3\n",
       "16    WI      3\n",
       "17    KY      3\n",
       "18    PA      3\n",
       "19    NM      3\n",
       "20    CO      3\n",
       "21    IA      3\n",
       "22    IN      2\n",
       "23    NV      2\n",
       "24    NC      2\n",
       "25    MD      2\n",
       "26    AR      2\n",
       "27    VA      2\n",
       "28    MS      2\n",
       "29    NY      2\n",
       "30    MA      1\n",
       "31    WV      1\n",
       "32    WY      1\n",
       "33    DE      1\n",
       "34    GA      1\n",
       "35    KS      1\n",
       "36    NJ      1\n",
       "37    SC      1\n",
       "38    MI      1\n",
       "39    DC      1\n",
       "40    ID      1\n",
       "41    PR      1"
      ]
     },
     "execution_count": 28,
     "metadata": {},
     "output_type": "execute_result"
    }
   ],
   "source": [
    "#Cell 5 reset index creates a dataframe with indexes that start with 0.\n",
    "#here we create a dataframe that counts the statewise number of entries in the dataframe\n",
    "accident_list['state'].value_counts().reset_index() #GIVEN"
   ]
  },
  {
   "cell_type": "code",
   "execution_count": null,
   "metadata": {
    "id": "9VBqp0J0expg",
    "outputId": "b0721e84-d8b2-4a0c-e965-1c9d811b2cc3"
   },
   "outputs": [
    {
     "data": {
      "text/plain": [
       "9.523809523809524"
      ]
     },
     "execution_count": 40,
     "metadata": {},
     "output_type": "execute_result"
    }
   ],
   "source": [
    "#Cell 6 here we find the percentage of fatalities that occurred in the  state of Califoria where number of fatalities are greater than 0\n",
    "# let my_state equal CA\n",
    "#GIVEN\n",
    "my_state='CA'\n",
    "# create a dataframe that contains only those rows that belong to california with fatalities greater than 0\n",
    "my_accidents= accident_list[(accident_list['state']==my_state)&(accident_list['total_fatalities']>0)]\n",
    "# divide the sum of the total fatalities in CA with the total fatalities in the previous accident_list datafram that contains all states\n",
    "\n",
    "100*my_accidents['total_fatalities'].sum()/accident_list['total_fatalities'].sum()\n",
    "\n",
    "#you will see the following number.\n",
    "\n",
    "########Now use the same code to compute the percentage for Georgia GA"
   ]
  },
  {
   "cell_type": "code",
   "execution_count": null,
   "metadata": {
    "id": "9oypIiiBexpj"
   },
   "outputs": [],
   "source": []
  },
  {
   "cell_type": "code",
   "execution_count": 29,
   "metadata": {
    "id": "3RtAA8Tmexpl"
   },
   "outputs": [
    {
     "name": "stdout",
     "output_type": "stream",
     "text": [
      "   latimes_make_and_model  total_hours\n",
      "0              AGUSTA 109       362172\n",
      "1              AIRBUS 130      1053786\n",
      "2              AIRBUS 135       884596\n",
      "3              AIRBUS 350      3883490\n",
      "4                BELL 206      5501308\n",
      "5                BELL 407      2113788\n",
      "6              HUGHES 369      1201688\n",
      "7   MCDONNELL DOUGLAS 369       550689\n",
      "8            ROBINSON R22      2970806\n",
      "9            ROBINSON R44      2359729\n",
      "10          SCHWEIZER 269      1139326\n"
     ]
    }
   ],
   "source": [
    "survey = pd.read_csv(\"faa-survey.csv\")#Cell 7 read the faa-survey.csv file into a dataframe called survey\n",
    "#this file contains only two columns the la times make and model and the total hours flown by the aircraft\n",
    "print(survey.head(11))#display the first 10 rows using the head function on the survey dataframe"
   ]
  },
  {
   "cell_type": "code",
   "execution_count": 30,
   "metadata": {
    "id": "TxXcgh97expm",
    "outputId": "e49d64a6-f22f-4fb7-ca80-ed791c97c93e"
   },
   "outputs": [
    {
     "name": "stdout",
     "output_type": "stream",
     "text": [
      "<bound method DataFrame.info of    latimes_make_and_model  total_hours\n",
      "0              AGUSTA 109       362172\n",
      "1              AIRBUS 130      1053786\n",
      "2              AIRBUS 135       884596\n",
      "3              AIRBUS 350      3883490\n",
      "4                BELL 206      5501308\n",
      "5                BELL 407      2113788\n",
      "6              HUGHES 369      1201688\n",
      "7   MCDONNELL DOUGLAS 369       550689\n",
      "8            ROBINSON R22      2970806\n",
      "9            ROBINSON R44      2359729\n",
      "10          SCHWEIZER 269      1139326\n",
      "11            SIKORSKY 76       915515>\n"
     ]
    }
   ],
   "source": [
    "print(survey.info)#Cell 8 get the column information using the info function\n",
    "#this is what you will see"
   ]
  },
  {
   "cell_type": "code",
   "execution_count": 32,
   "metadata": {
    "id": "Oipko3f7expn"
   },
   "outputs": [
    {
     "name": "stdout",
     "output_type": "stream",
     "text": [
      "           event_id                       ntsb_make ntsb_model ntsb_number  \\\n",
      "0    20061222X01838                            BELL        407  NYC07FA048   \n",
      "1    20060817X01187                        ROBINSON   R22 BETA  LAX06LA257   \n",
      "2    20060111X00044                        ROBINSON        R44  MIA06FA039   \n",
      "3    20060419X00461                        ROBINSON     R44 II  DFW06FA102   \n",
      "4    20060208X00181                        ROBINSON        R44  SEA06LA052   \n",
      "..              ...                             ...        ...         ...   \n",
      "158  20160711X32921  BELL HELICOPTER TEXTRON CANADA        407  ERA16FA248   \n",
      "159  20160804X45514                       SCHWEIZER     269C 1  CEN16FA304   \n",
      "160  20160404X74644                            BELL        206  ERA16FA144   \n",
      "161  20160507X31120                          AIRBUS      AS350  ANC16FA023   \n",
      "162  20160612X85856     ROBINSON HELICOPTER COMPANY     R44 II  CEN16FA215   \n",
      "\n",
      "     year               date            city state country  total_fatalities  \\\n",
      "0    2006  12/14/06 00:00:00        DAGSBORO    DE     USA                 2   \n",
      "1    2006  08/10/06 00:00:00          TUCSON    AZ     USA                 1   \n",
      "2    2006  01/01/06 00:00:00     GRAND RIDGE    FL     USA                 3   \n",
      "3    2006  04/13/06 00:00:00  FREDERICKSBURG    TX     USA                 2   \n",
      "4    2006  02/06/06 00:00:00          HELENA    MT     USA                 1   \n",
      "..    ...                ...             ...   ...     ...               ...   \n",
      "158  2016  07/11/16 00:00:00         HICKORY    KY     USA                 1   \n",
      "159  2016  08/03/16 00:00:00      JEANERETTE    LA     USA                 1   \n",
      "160  2016  04/04/16 00:00:00    PIGEON FORGE    TN     USA                 5   \n",
      "161  2016  05/06/16 00:00:00         SKAGWAY    AK     USA                 1   \n",
      "162  2016  06/12/16 00:00:00       JONESBORO    AR     USA                 1   \n",
      "\n",
      "    latimes_make latimes_model latimes_make_and_model  total_hours  \n",
      "0           BELL           407               BELL 407      2113788  \n",
      "1       ROBINSON           R22           ROBINSON R22      2970806  \n",
      "2       ROBINSON           R44           ROBINSON R44      2359729  \n",
      "3       ROBINSON           R44           ROBINSON R44      2359729  \n",
      "4       ROBINSON           R44           ROBINSON R44      2359729  \n",
      "..           ...           ...                    ...          ...  \n",
      "158         BELL           407               BELL 407      2113788  \n",
      "159    SCHWEIZER           269          SCHWEIZER 269      1139326  \n",
      "160         BELL           206               BELL 206      5501308  \n",
      "161       AIRBUS           350             AIRBUS 350      3883490  \n",
      "162     ROBINSON           R44           ROBINSON R44      2359729  \n",
      "\n",
      "[163 rows x 14 columns]\n"
     ]
    }
   ],
   "source": [
    "#Cell 9 merge the two data frames using the merge function on the common column \"la_times_make_and_model\"\n",
    "#call this dataframe merged_list\n",
    "merged_list = pd.merge(accident_list, survey, on=\"latimes_make_and_model\") #GIVEN\n",
    "print(merged_list)"
   ]
  },
  {
   "cell_type": "code",
   "execution_count": 35,
   "metadata": {
    "id": "kvfJhkyLexpn",
    "outputId": "f749d49d-50df-4167-e402-36d517679f6d"
   },
   "outputs": [
    {
     "name": "stdout",
     "output_type": "stream",
     "text": [
      "           event_id                       ntsb_make ntsb_model ntsb_number  \\\n",
      "0    20061222X01838                            BELL        407  NYC07FA048   \n",
      "1    20060817X01187                        ROBINSON   R22 BETA  LAX06LA257   \n",
      "2    20060111X00044                        ROBINSON        R44  MIA06FA039   \n",
      "3    20060419X00461                        ROBINSON     R44 II  DFW06FA102   \n",
      "4    20060208X00181                        ROBINSON        R44  SEA06LA052   \n",
      "..              ...                             ...        ...         ...   \n",
      "158  20160711X32921  BELL HELICOPTER TEXTRON CANADA        407  ERA16FA248   \n",
      "159  20160804X45514                       SCHWEIZER     269C 1  CEN16FA304   \n",
      "160  20160404X74644                            BELL        206  ERA16FA144   \n",
      "161  20160507X31120                          AIRBUS      AS350  ANC16FA023   \n",
      "162  20160612X85856     ROBINSON HELICOPTER COMPANY     R44 II  CEN16FA215   \n",
      "\n",
      "     year               date            city state country  total_fatalities  \\\n",
      "0    2006  12/14/06 00:00:00        DAGSBORO    DE     USA                 2   \n",
      "1    2006  08/10/06 00:00:00          TUCSON    AZ     USA                 1   \n",
      "2    2006  01/01/06 00:00:00     GRAND RIDGE    FL     USA                 3   \n",
      "3    2006  04/13/06 00:00:00  FREDERICKSBURG    TX     USA                 2   \n",
      "4    2006  02/06/06 00:00:00          HELENA    MT     USA                 1   \n",
      "..    ...                ...             ...   ...     ...               ...   \n",
      "158  2016  07/11/16 00:00:00         HICKORY    KY     USA                 1   \n",
      "159  2016  08/03/16 00:00:00      JEANERETTE    LA     USA                 1   \n",
      "160  2016  04/04/16 00:00:00    PIGEON FORGE    TN     USA                 5   \n",
      "161  2016  05/06/16 00:00:00         SKAGWAY    AK     USA                 1   \n",
      "162  2016  06/12/16 00:00:00       JONESBORO    AR     USA                 1   \n",
      "\n",
      "    latimes_make latimes_model latimes_make_and_model  total_hours  \n",
      "0           BELL           407               BELL 407      2113788  \n",
      "1       ROBINSON           R22           ROBINSON R22      2970806  \n",
      "2       ROBINSON           R44           ROBINSON R44      2359729  \n",
      "3       ROBINSON           R44           ROBINSON R44      2359729  \n",
      "4       ROBINSON           R44           ROBINSON R44      2359729  \n",
      "..           ...           ...                    ...          ...  \n",
      "158         BELL           407               BELL 407      2113788  \n",
      "159    SCHWEIZER           269          SCHWEIZER 269      1139326  \n",
      "160         BELL           206               BELL 206      5501308  \n",
      "161       AIRBUS           350             AIRBUS 350      3883490  \n",
      "162     ROBINSON           R44           ROBINSON R44      2359729  \n",
      "\n",
      "[163 rows x 14 columns]\n"
     ]
    }
   ],
   "source": [
    "print(merged_list)#Cell 10 display the merged list\n",
    "#this is what you will see"
   ]
  },
  {
   "cell_type": "code",
   "execution_count": 37,
   "metadata": {
    "id": "Iy-MaNh_expo",
    "outputId": "24ba26a0-e3ed-4cdc-9476-1ad999d7aea3"
   },
   "outputs": [],
   "source": [
    "merged_list['per_hour'] = 1000000 * (merged_list[\"total_fatalities\"].sum()/merged_list[\"total_hours\"].sum())#CEll 11 calculate the total fatalities per hours flown by dividing the total fatalities colum by the total hours column in the merged_list data frame\n",
    "#at the same time multiply this with 1000000 so as to get a large enough number\n",
    "#store this in a column called 'per_hour' e.g meged_list['per_hour']=\n",
    "#this is what you will see"
   ]
  },
  {
   "cell_type": "markdown",
   "metadata": {
    "id": "jMVysjYHexpp"
   },
   "source": [
    "merged_list"
   ]
  },
  {
   "cell_type": "code",
   "execution_count": null,
   "metadata": {
    "id": "yLy8UAZuexpq",
    "outputId": "fb98d38f-cfc0-4620-99ef-47ba5091a89e"
   },
   "outputs": [
    {
     "data": {
      "text/html": [
       "<div>\n",
       "<style scoped>\n",
       "    .dataframe tbody tr th:only-of-type {\n",
       "        vertical-align: middle;\n",
       "    }\n",
       "\n",
       "    .dataframe tbody tr th {\n",
       "        vertical-align: top;\n",
       "    }\n",
       "\n",
       "    .dataframe thead th {\n",
       "        text-align: right;\n",
       "    }\n",
       "</style>\n",
       "<table border=\"1\" class=\"dataframe\">\n",
       "  <thead>\n",
       "    <tr style=\"text-align: right;\">\n",
       "      <th></th>\n",
       "      <th>latimes_make_and_model</th>\n",
       "      <th>total_fatalities</th>\n",
       "      <th>total_hours</th>\n",
       "      <th>per_hour</th>\n",
       "    </tr>\n",
       "  </thead>\n",
       "  <tbody>\n",
       "    <tr>\n",
       "      <th>9</th>\n",
       "      <td>ROBINSON R44</td>\n",
       "      <td>71</td>\n",
       "      <td>2359729</td>\n",
       "      <td>3.008820</td>\n",
       "    </tr>\n",
       "    <tr>\n",
       "      <th>3</th>\n",
       "      <td>AIRBUS 350</td>\n",
       "      <td>81</td>\n",
       "      <td>3883490</td>\n",
       "      <td>2.085753</td>\n",
       "    </tr>\n",
       "    <tr>\n",
       "      <th>5</th>\n",
       "      <td>BELL 407</td>\n",
       "      <td>35</td>\n",
       "      <td>2113788</td>\n",
       "      <td>1.655795</td>\n",
       "    </tr>\n",
       "    <tr>\n",
       "      <th>6</th>\n",
       "      <td>HUGHES 369</td>\n",
       "      <td>19</td>\n",
       "      <td>1201688</td>\n",
       "      <td>1.581109</td>\n",
       "    </tr>\n",
       "    <tr>\n",
       "      <th>0</th>\n",
       "      <td>AGUSTA 109</td>\n",
       "      <td>5</td>\n",
       "      <td>362172</td>\n",
       "      <td>1.380560</td>\n",
       "    </tr>\n",
       "    <tr>\n",
       "      <th>7</th>\n",
       "      <td>MCDONNELL DOUGLAS 369</td>\n",
       "      <td>7</td>\n",
       "      <td>550689</td>\n",
       "      <td>1.271135</td>\n",
       "    </tr>\n",
       "    <tr>\n",
       "      <th>2</th>\n",
       "      <td>AIRBUS 135</td>\n",
       "      <td>11</td>\n",
       "      <td>884596</td>\n",
       "      <td>1.243506</td>\n",
       "    </tr>\n",
       "    <tr>\n",
       "      <th>11</th>\n",
       "      <td>SIKORSKY 76</td>\n",
       "      <td>11</td>\n",
       "      <td>915515</td>\n",
       "      <td>1.201510</td>\n",
       "    </tr>\n",
       "    <tr>\n",
       "      <th>4</th>\n",
       "      <td>BELL 206</td>\n",
       "      <td>61</td>\n",
       "      <td>5501308</td>\n",
       "      <td>1.108827</td>\n",
       "    </tr>\n",
       "    <tr>\n",
       "      <th>8</th>\n",
       "      <td>ROBINSON R22</td>\n",
       "      <td>27</td>\n",
       "      <td>2970806</td>\n",
       "      <td>0.908844</td>\n",
       "    </tr>\n",
       "    <tr>\n",
       "      <th>10</th>\n",
       "      <td>SCHWEIZER 269</td>\n",
       "      <td>7</td>\n",
       "      <td>1139326</td>\n",
       "      <td>0.614398</td>\n",
       "    </tr>\n",
       "    <tr>\n",
       "      <th>1</th>\n",
       "      <td>AIRBUS 130</td>\n",
       "      <td>1</td>\n",
       "      <td>1053786</td>\n",
       "      <td>0.094896</td>\n",
       "    </tr>\n",
       "  </tbody>\n",
       "</table>\n",
       "</div>"
      ],
      "text/plain": [
       "   latimes_make_and_model  total_fatalities  total_hours  per_hour\n",
       "9            ROBINSON R44                71      2359729  3.008820\n",
       "3              AIRBUS 350                81      3883490  2.085753\n",
       "5                BELL 407                35      2113788  1.655795\n",
       "6              HUGHES 369                19      1201688  1.581109\n",
       "0              AGUSTA 109                 5       362172  1.380560\n",
       "7   MCDONNELL DOUGLAS 369                 7       550689  1.271135\n",
       "2              AIRBUS 135                11       884596  1.243506\n",
       "11            SIKORSKY 76                11       915515  1.201510\n",
       "4                BELL 206                61      5501308  1.108827\n",
       "8            ROBINSON R22                27      2970806  0.908844\n",
       "10          SCHWEIZER 269                 7      1139326  0.614398\n",
       "1              AIRBUS 130                 1      1053786  0.094896"
      ]
     },
     "execution_count": 44,
     "metadata": {},
     "output_type": "execute_result"
    }
   ],
   "source": [
    "#Cell 12 sort the merged_list data frame\n",
    "merged_list.sort_values('per_hour',ascending=False) #GIVEN"
   ]
  },
  {
   "cell_type": "code",
   "execution_count": null,
   "metadata": {
    "id": "bL5ayFuBexpr",
    "outputId": "70bfc30a-9d31-4c75-eaef-0c2726686a33"
   },
   "outputs": [
    {
     "data": {
      "text/plain": [
       "<AxesSubplot:xlabel='latimes_make_and_model'>"
      ]
     },
     "execution_count": 28,
     "metadata": {},
     "output_type": "execute_result"
    },
    {
     "data": {
      "image/png": "[encoded data removed]",
      "text/plain": [
       "<Figure size 640x480 with 1 Axes>"
      ]
     },
     "metadata": {},
     "output_type": "display_data"
    }
   ],
   "source": [
    "#Cell 13 plot a graph the results with the make and model on the x axis and the 'per_hour' values on the y axis\n",
    "merged_list.plot(x=\"latimes_make_and_model\", y=\"per_hour\", kind=\"bar\") #GIVEN"
   ]
  },
  {
   "cell_type": "code",
   "execution_count": null,
   "metadata": {
    "id": "cfea8tfyexps"
   },
   "outputs": [],
   "source": []
  }
 ],
 "metadata": {
  "colab": {
   "provenance": []
  },
  "kernelspec": {
   "display_name": "Python 3 (ipykernel)",
   "language": "python",
   "name": "python3"
  },
  "language_info": {
   "codemirror_mode": {
    "name": "ipython",
    "version": 3
   },
   "file_extension": ".py",
   "mimetype": "text/x-python",
   "name": "python",
   "nbconvert_exporter": "python",
   "pygments_lexer": "ipython3",
   "version": "3.11.0"
  }
 },
 "nbformat": 4,
 "nbformat_minor": 4
}
