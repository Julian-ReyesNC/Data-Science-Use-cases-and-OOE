{
 "cells": [
  {
   "cell_type": "markdown",
   "id": "4492d956-f737-4e73-ae62-5b3b7e56dacd",
   "metadata": {},
   "source": [
    "This program is quite useful for sorting through your data to find key information. You can skip to the bottom to see the output where we find the main protagonist of the story based on how many times the name \"Alice\" is mentioned in the story. Mke sure to add .txt to the file."
   ]
  },
  {
   "cell_type": "code",
   "execution_count": 2,
   "id": "fa73c894-6054-4160-9b0c-1016c186a40f",
   "metadata": {},
   "outputs": [
    {
     "name": "stdin",
     "output_type": "stream",
     "text": [
      "please enter a filename Alice-Chapter1.txt\n"
     ]
    },
    {
     "name": "stdout",
     "output_type": "stream",
     "text": [
      "AliceTable: {'Alice': 20, 'was': 51, 'beginning': 1, 'to': 71, 'get': 7, 'very': 19, 'tired': 2, 'of': 41, 'sitting': 1, 'by': 6, 'her': 24, 'sister': 2, 'on': 14, 'the': 87, 'bank,': 1, 'and': 56, 'having': 3, 'nothing': 7, 'do:': 1, 'once': 3, 'or': 12, 'twice': 1, 'she': 73, 'had': 19, 'peeped': 1, 'into': 9, 'book': 2, 'reading,': 1, 'but': 16, 'it': 41, 'no': 9, 'pictures': 3, 'conversations': 1, 'in': 24, 'it,': 11, '“and': 4, 'what': 9, 'is': 5, 'use': 5, 'a': 52, 'book,”': 1, 'thought': 8, '“without': 1, 'conversations?”': 1, 'So': 2, 'considering': 2, 'own': 2, 'mind': 2, '(as': 1, 'well': 3, 'as': 12, 'could,': 2, 'for': 17, 'hot': 2, 'day': 1, 'made': 2, 'feel': 2, 'sleepy': 1, 'stupid),': 1, 'whether': 2, 'pleasure': 1, 'making': 1, 'daisy-chain': 1, 'would': 5, 'be': 13, 'worth': 1, 'trouble': 1, 'getting': 2, 'up': 11, 'picking': 1, 'daisies,': 1, 'when': 9, 'suddenly': 3, 'White': 2, 'Rabbit': 5, 'with': 11, 'pink': 1, 'eyes': 1, 'ran': 2, 'close': 2, 'her.': 1, 'There': 6, 'so': 12, '_very_': 4, 'remarkable': 1, 'that;': 1, 'nor': 1, 'did': 3, 'think': 8, 'much': 6, 'out': 10, 'way': 6, 'hear': 2, 'say': 4, 'itself,': 1, '“Oh': 2, 'dear!': 3, 'Oh': 1, 'I': 23, 'shall': 5, 'late!”': 1, '(when': 1, 'over': 1, 'afterwards,': 1, 'occurred': 1, 'that': 21, 'ought': 1, 'have': 2, 'wondered': 1, 'at': 11, 'this,': 2, 'time': 6, 'all': 10, 'seemed': 3, 'quite': 4, 'natural);': 1, 'actually': 1, '_took': 1, 'watch': 2, 'its': 1, 'waistcoat-pocket_,': 1, 'looked': 4, 'then': 4, 'hurried': 1, 'on,': 1, 'started': 1, 'feet,': 1, 'flashed': 1, 'across': 2, 'never': 4, 'before': 3, 'seen': 2, 'rabbit': 1, 'either': 4, 'waistcoat-pocket,': 1, 'take': 1, 'burning': 1, 'curiosity,': 1, 'field': 1, 'after': 3, 'fortunately': 1, 'just': 3, 'see': 6, 'pop': 1, 'down': 14, 'large': 2, 'rabbit-hole': 2, 'under': 3, 'hedge.': 1, 'In': 1, 'another': 3, 'moment': 3, 'went': 7, 'how': 6, 'world': 1, 'again.': 4, 'The': 2, 'straight': 1, 'like': 11, 'tunnel': 1, 'some': 1, 'way,': 2, 'dipped': 1, 'down,': 4, 'not': 14, 'about': 8, 'stopping': 1, 'herself': 7, 'found': 7, 'falling': 2, 'deep': 1, 'well.': 1, 'Either': 1, 'deep,': 1, 'fell': 4, 'slowly,': 1, 'plenty': 1, 'look': 3, 'wonder': 5, 'going': 6, 'happen': 1, 'next.': 1, 'First,': 2, 'tried': 5, 'make': 2, 'coming': 1, 'to,': 1, 'too': 5, 'dark': 3, 'anything;': 1, 'sides': 1, 'well,': 1, 'noticed': 2, 'they': 4, 'were': 8, 'filled': 1, 'cupboards': 2, 'book-shelves;': 1, 'here': 4, 'there': 4, 'saw': 1, 'maps': 1, 'hung': 1, 'upon': 4, 'pegs.': 1, 'She': 5, 'took': 1, 'jar': 2, 'from': 3, 'one': 8, 'shelves': 1, 'passed;': 1, 'labelled': 1, '“ORANGE': 1, 'MARMALADE”,': 1, 'great': 2, 'disappointment': 1, 'empty:': 1, 'drop': 1, 'fear': 1, 'killing': 1, 'somebody': 1, 'underneath,': 1, 'managed': 1, 'put': 2, 'past': 1, 'it.': 3, '“Well!”': 1, 'herself,': 6, '“after': 1, 'such': 3, 'fall': 4, 'tumbling': 1, 'stairs!': 1, 'How': 3, 'brave': 1, 'they’ll': 2, 'me': 8, 'home!': 1, 'Why,': 2, 'wouldn’t': 1, 'anything': 1, 'even': 3, 'if': 10, 'off': 4, 'top': 2, 'house!”': 1, '(Which': 1, 'likely': 1, 'true.)': 1, 'Down,': 2, 'down.': 2, 'Would': 1, '_never_': 1, 'come': 2, 'an': 2, 'end?': 1, '“I': 6, 'many': 2, 'miles': 2, 'I’ve': 2, 'fallen': 1, 'this': 10, 'time?”': 1, 'said': 7, 'aloud.': 1, 'must': 2, 'somewhere': 1, 'near': 1, 'centre': 1, 'earth.': 1, 'Let': 1, 'see:': 1, 'four': 1, 'thousand': 1, 'think—”': 2, '(for,': 1, 'you': 17, 'see,': 3, 'learnt': 1, 'several': 2, 'things': 4, 'sort': 3, 'lessons': 1, 'schoolroom,': 1, 'though': 1, 'good': 3, 'opportunity': 1, 'showing': 1, 'knowledge,': 1, 'listen': 1, 'her,': 1, 'still': 2, 'practice': 1, 'over)': 1, '“—yes,': 1, 'that’s': 2, 'right': 4, 'distance—but': 1, 'Latitude': 2, 'Longitude': 2, 'got': 4, 'to?”': 1, '(Alice': 1, 'idea': 1, 'was,': 1, 'either,': 1, 'nice': 2, 'grand': 1, 'words': 3, 'say.)': 1, 'Presently': 1, 'began': 3, '_through_': 1, 'earth!': 1, 'funny': 1, 'it’ll': 2, 'seem': 1, 'among': 2, 'people': 2, 'walk': 1, 'their': 2, 'heads': 1, 'downward!': 1, 'Antipathies,': 1, '(she': 1, 'rather': 3, 'glad': 1, '_was_': 1, 'listening,': 1, 'time,': 1, 'didn’t': 2, 'sound': 1, 'word)': 1, '“—but': 1, 'ask': 1, 'them': 1, 'name': 1, 'country': 1, 'is,': 1, 'know.': 2, 'Please,': 1, 'Ma’am,': 1, 'New': 1, 'Zealand': 1, 'Australia?”': 1, '(and': 1, 'curtsey': 1, 'spoke—fancy': 1, '_curtseying_': 1, 'you’re': 1, 'through': 4, 'air!': 1, 'Do': 2, 'could': 6, 'manage': 1, 'it?)': 1, '“And': 1, 'ignorant': 1, 'little': 15, 'girl': 1, 'she’ll': 1, 'asking!': 1, 'No,': 1, 'do': 3, 'ask:': 1, 'perhaps': 1, 'written': 1, 'somewhere.”': 1, 'else': 1, 'do,': 1, 'soon': 3, 'talking': 1, '“Dinah’ll': 1, 'miss': 1, 'to-night,': 1, 'should': 2, 'think!”': 1, '(Dinah': 1, 'cat.)': 1, 'hope': 1, 'remember': 3, 'saucer': 1, 'milk': 1, 'tea-time.': 1, 'Dinah': 1, 'my': 5, 'wish': 2, 'me!': 1, 'are': 1, 'mice': 1, 'air,': 1, 'I’m': 1, 'afraid,': 1, 'might': 4, 'catch': 1, 'bat,': 1, 'mouse,': 1, 'But': 1, 'cats': 3, 'eat': 6, 'bats,': 1, 'wonder?”': 1, 'And': 3, 'sleepy,': 1, 'saying': 2, 'dreamy': 1, '“Do': 2, 'bats?': 1, 'bats?”': 1, 'sometimes,': 1, 'bats': 1, 'cats?”': 1, 'for,': 1, 'couldn’t': 1, 'answer': 1, 'question,': 1, 'matter': 1, 'which': 5, 'felt': 2, 'dozing': 1, 'off,': 1, 'begun': 2, 'dream': 1, 'walking': 1, 'hand': 3, 'Dinah,': 2, 'earnestly,': 1, '“Now,': 1, 'tell': 1, 'truth:': 1, 'ever': 4, 'bat?”': 1, 'suddenly,': 1, 'thump!': 2, 'came': 3, 'heap': 1, 'sticks': 1, 'dry': 1, 'leaves,': 1, 'over.': 1, 'bit': 1, 'hurt,': 1, 'jumped': 1, 'feet': 1, 'moment:': 1, 'up,': 1, 'overhead;': 1, 'long': 1, 'passage,': 2, 'sight,': 1, 'hurrying': 1, 'lost:': 1, 'away': 1, 'wind,': 1, 'say,': 1, 'turned': 2, 'corner,': 2, 'ears': 2, 'whiskers,': 1, 'late': 1, 'it’s': 3, 'getting!”': 1, 'behind': 2, 'longer': 1, 'seen:': 1, 'long,': 1, 'low': 2, 'hall,': 3, 'lit': 1, 'row': 1, 'lamps': 1, 'hanging': 1, 'roof.': 1, 'doors': 2, 'round': 2, 'locked;': 1, 'been': 1, 'side': 1, 'other,': 1, 'trying': 2, 'every': 1, 'door,': 3, 'walked': 1, 'sadly': 1, 'middle,': 1, 'wondering': 1, 'Suddenly': 1, 'three-legged': 1, 'table,': 3, 'solid': 1, 'glass;': 1, 'except': 1, 'tiny': 1, 'golden': 3, 'key,': 2, 'Alice’s': 1, 'first': 1, 'belong': 1, 'hall;': 1, 'but,': 2, 'alas!': 1, 'locks': 1, 'large,': 1, 'key': 3, 'small,': 1, 'any': 4, 'rate': 2, 'open': 1, 'them.': 1, 'However,': 2, 'second': 1, 'round,': 1, 'curtain': 1, 'before,': 1, 'door': 3, 'fifteen': 1, 'inches': 2, 'high:': 1, 'lock,': 1, 'delight': 1, 'fitted!': 1, 'opened': 2, 'led': 1, 'small': 2, 'larger': 1, 'than': 1, 'rat-hole:': 1, 'knelt': 1, 'along': 1, 'passage': 1, 'loveliest': 1, 'garden': 2, 'saw.': 1, 'longed': 1, 'wander': 1, 'those': 2, 'beds': 1, 'bright': 1, 'flowers': 1, 'cool': 1, 'fountains,': 1, 'head': 3, 'doorway;': 1, 'go': 2, 'through,”': 1, 'poor': 4, 'Alice,': 3, '“it': 1, 'without': 1, 'shoulders.': 1, 'Oh,': 1, 'shut': 1, 'telescope!': 1, 'only': 2, 'knew': 1, 'begin.”': 1, 'For,': 1, 'out-of-the-way': 2, 'happened': 1, 'lately,': 1, 'few': 2, 'indeed': 1, 'really': 1, 'impossible.': 1, 'waiting': 1, 'back': 2, 'half': 1, 'hoping': 1, 'find': 2, 'rules': 2, 'shutting': 2, 'telescopes:': 1, 'bottle': 4, '(“which': 1, 'certainly': 1, 'before,”': 1, 'Alice,)': 1, 'neck': 1, 'paper': 1, 'label,': 1, '“DRINK': 1, 'ME,”': 1, 'beautifully': 2, 'printed': 1, 'letters.': 1, 'It': 1, '“Drink': 1, 'me,”': 1, 'wise': 1, '_that_': 1, 'hurry.': 1, '“No,': 1, 'I’ll': 3, 'first,”': 1, 'said,': 1, 'marked': 4, '‘_poison_’': 1, 'not”;': 1, 'read': 1, 'histories': 1, 'children': 1, 'who': 1, 'burnt,': 1, 'eaten': 1, 'wild': 1, 'beasts': 1, 'other': 1, 'unpleasant': 1, 'things,': 1, 'because': 1, '_would_': 1, 'simple': 1, 'friends': 1, 'taught': 1, 'them:': 1, 'as,': 1, 'red-hot': 1, 'poker': 1, 'will': 1, 'burn': 1, 'hold': 1, 'long;': 1, 'cut': 1, 'your': 1, 'finger': 1, 'deeply': 1, 'knife,': 1, 'usually': 1, 'bleeds;': 1, 'forgotten': 2, 'that,': 1, 'drink': 1, '“poison,”': 2, 'almost': 1, 'certain': 1, 'disagree': 1, 'you,': 1, 'sooner': 1, 'later.': 1, '_not_': 1, 'ventured': 1, 'taste': 1, 'finding': 2, 'nice,': 1, '(it': 1, 'had,': 1, 'fact,': 1, 'mixed': 1, 'flavour': 1, 'cherry-tart,': 1, 'custard,': 1, 'pine-apple,': 1, 'roast': 1, 'turkey,': 1, 'toffee,': 1, 'buttered': 1, 'toast,)': 1, 'finished': 2, 'off.': 1, '*': 20, '“What': 1, 'curious': 2, 'feeling!”': 1, 'Alice;': 1, 'telescope.”': 1, 'indeed:': 1, 'now': 2, 'ten': 1, 'high,': 1, 'face': 1, 'brightened': 1, 'size': 1, 'lovely': 1, 'garden.': 1, 'however,': 1, 'waited': 1, 'minutes': 1, 'shrink': 1, 'further:': 1, 'nervous': 1, 'this;': 1, '“for': 1, 'end,': 1, 'know,”': 1, '“in': 1, 'altogether,': 1, 'candle.': 1, 'then?”': 1, 'fancy': 1, 'flame': 1, 'candle': 2, 'blown': 1, 'out,': 1, 'thing.': 1, 'After': 1, 'while,': 1, 'more': 1, 'happened,': 1, 'decided': 1, 'once;': 1, 'alas': 1, 'Alice!': 1, 'table': 1, 'possibly': 1, 'reach': 2, 'it:': 1, 'plainly': 1, 'glass,': 1, 'best': 1, 'climb': 1, 'legs': 1, 'slippery;': 1, 'trying,': 1, 'thing': 1, 'sat': 1, 'cried.': 1, '“Come,': 1, 'there’s': 2, 'crying': 1, 'that!”': 1, 'sharply;': 1, 'advise': 1, 'leave': 1, 'minute!”': 1, 'generally': 2, 'gave': 1, 'advice,': 1, '(though': 1, 'seldom': 1, 'followed': 1, 'it),': 1, 'sometimes': 1, 'scolded': 1, 'severely': 1, 'bring': 1, 'tears': 1, 'eyes;': 1, 'remembered': 1, 'box': 2, 'cheated': 1, 'game': 1, 'croquet': 1, 'playing': 1, 'against': 1, 'child': 1, 'fond': 1, 'pretending': 1, 'two': 2, 'people.': 1, '“But': 1, 'now,”': 1, '“to': 1, 'pretend': 1, 'people!': 1, 'hardly': 1, 'enough': 1, 'left': 1, '_one_': 1, 'respectable': 1, 'person!”': 1, 'Soon': 1, 'eye': 1, 'glass': 1, 'lying': 1, 'table:': 1, 'cake,': 2, '“EAT': 1, 'ME”': 1, 'currants.': 1, '“Well,': 1, 'it,”': 1, 'makes': 2, 'grow': 2, 'larger,': 1, 'can': 2, 'key;': 1, 'smaller,': 1, 'creep': 1, 'door;': 1, 'garden,': 1, 'don’t': 1, 'care': 1, 'happens!”': 1, 'ate': 1, 'bit,': 1, 'anxiously': 1, '“Which': 1, 'way?': 1, 'Which': 1, 'way?”,': 1, 'holding': 1, 'growing,': 1, 'surprised': 1, 'remained': 1, 'same': 1, 'size:': 1, 'sure,': 1, 'happens': 1, 'eats': 1, 'expecting': 1, 'happen,': 1, 'dull': 1, 'stupid': 1, 'life': 1, 'common': 1, 'way.': 1, 'set': 1, 'work,': 1, 'cake.': 1}\n",
      "Ratio of 'Alice' to total words: 0.00925497454881999\n",
      "Ratio of 'Rabbit' to total words: 0.0023137436372049976\n",
      "The protagonist in the story is: Alice\n",
      "end\n"
     ]
    }
   ],
   "source": [
    "\n",
    "AliceTable = {}\n",
    "total_words = 0\n",
    "alice_count = 0\n",
    "\n",
    "rabbit_count = 0\n",
    "file_path = input(\"please enter a filename\")\n",
    "file = open(file_path, 'r', encoding= 'utf-8')\n",
    "for line in file:\n",
    "    words = line.rsplit()\n",
    "    for word in words:\n",
    "        if word in AliceTable:\n",
    "            AliceTable[word] += 1\n",
    "        else:\n",
    "            AliceTable[word] = 1\n",
    "\n",
    "        total_words += 1\n",
    "\n",
    "        if word == 'Alice':\n",
    "            alice_count += 1\n",
    "        elif word == 'Rabbit':\n",
    "            rabbit_count += 1\n",
    "\n",
    "alice_ratio = alice_count / total_words\n",
    "rabbit_ratio = rabbit_count / total_words\n",
    "\n",
    "print(\"AliceTable:\", AliceTable)\n",
    "print(\"Ratio of 'Alice' to total words:\", alice_ratio)\n",
    "print(\"Ratio of 'Rabbit' to total words:\", rabbit_ratio)\n",
    "\n",
    "protagonist = \"Alice\" if alice_ratio > rabbit_ratio else \"Rabbit\"\n",
    "print(\"The protagonist in the story is:\", protagonist)\n",
    "print(\"end\")\n"
   ]
  },
  {
   "cell_type": "markdown",
   "id": "8ccfd877-f5bb-4de5-a420-4f63dd30c424",
   "metadata": {},
   "source": [
    "As you can see we have counted the occurences of every word and we can curve this program quite easily to search for anything we might be looking for in our data such as unwanted profanity or key information for buisness insights. A very useful program indeed."
   ]
  }
 ],
 "metadata": {
  "kernelspec": {
   "display_name": "Python 3 (ipykernel)",
   "language": "python",
   "name": "python3"
  },
  "language_info": {
   "codemirror_mode": {
    "name": "ipython",
    "version": 3
   },
   "file_extension": ".py",
   "mimetype": "text/x-python",
   "name": "python",
   "nbconvert_exporter": "python",
   "pygments_lexer": "ipython3",
   "version": "3.11.0"
  }
 },
 "nbformat": 4,
 "nbformat_minor": 5
}
